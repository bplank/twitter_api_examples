{
 "cells": [
  {
   "cell_type": "markdown",
   "metadata": {},
   "source": [
    "# Tiny Twitter tutorial\n",
    "\n",
    "In this notebook you will see how you can access Twitter using some of Twitter's APIs. An API is an *application programming interface*, a set of functions in some programming language that allow you to access functionality of some system. \n",
    "\n",
    "Twitter has two main APIs that are of interests for us here, the REST and Streaming API (see the [Twitter documentation](https://dev.twitter.com/overview/documentation) for more details).\n",
    "\n",
    "* The Streaming API gives you access to a *sample* of **real-time** tweets.\n",
    "* For anything that goes beyond a random sample, you'll use the REST API. \n",
    "\n",
    "This is only a short introduction to see basics. An excellent introduction is the [Twitter tutorial by Wei Xu](http://socialmedia-class.org/twittertutorial.html), which we use for parts here."
   ]
  },
  {
   "cell_type": "code",
   "execution_count": null,
   "metadata": {
    "collapsed": true
   },
   "outputs": [],
   "source": []
  }
 ],
 "metadata": {
  "kernelspec": {
   "display_name": "Python 3",
   "language": "python",
   "name": "python3"
  },
  "language_info": {
   "codemirror_mode": {
    "name": "ipython",
    "version": 3
   },
   "file_extension": ".py",
   "mimetype": "text/x-python",
   "name": "python",
   "nbconvert_exporter": "python",
   "pygments_lexer": "ipython3",
   "version": "3.5.2"
  }
 },
 "nbformat": 4,
 "nbformat_minor": 0
}
