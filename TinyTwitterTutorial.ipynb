{
 "cells": [
  {
   "cell_type": "markdown",
   "metadata": {
    "slideshow": {
     "slide_type": "slide"
    }
   },
   "source": [
    "# Tiny Twitter tutorial\n",
    "\n",
    "by [@barbara_plank](http://www.twitter.com/barbara_plank)"
   ]
  },
  {
   "cell_type": "markdown",
   "metadata": {
    "slideshow": {
     "slide_type": "notes"
    }
   },
   "source": [
    "In this notebook you will see how you can access Twitter using the Twitter's API. \n",
    "\n",
    "**Further literature** An excellent (and more detailed) introduction to the Twitter API is the ultimate [Twitter tutorial by Wei Xu](http://socialmedia-class.org/twittertutorial.html), which this material is largely based on. Thanks, Wei!"
   ]
  },
  {
   "cell_type": "markdown",
   "metadata": {},
   "source": [
    "## Twitter's API\n",
    "\n",
    "An API is an *application programming interface*, a set of functions in some programming language that allow you to access functionality of some system. \n",
    "\n"
   ]
  },
  {
   "cell_type": "markdown",
   "metadata": {
    "slideshow": {
     "slide_type": "slide"
    }
   },
   "source": [
    "## Getting access credentials\n",
    "\n",
    "Before you can make any request to the Twitter API, you need to get access credentials. The first step is to create a Twitter account (unless you already have one) and then create an application on [http://dev.twitter.com/apps](http://dev.twitter.com/apps)"
   ]
  },
  {
   "cell_type": "markdown",
   "metadata": {
    "collapsed": true,
    "slideshow": {
     "slide_type": "fragment"
    }
   },
   "source": [
    "1. Log in to [http://dev.twitter.com/apps](http://dev.twitter.com/apps) and press 'Create New App'. \n",
    "2. Enter the required information (name, description, website) and create your Twitter application.\n",
    "3. Go to 'Key and Access Tokens' and 'Create my access token'.\n",
    "4. Copy your \"API key\", \"API secret\" and \"Access token\" and \"Access token secret\".\n",
    "\n",
    "Now you have your credentials. We will store them in a JSON file that we will later give to our script. Copy your credentials to a file called `credentials-YOURNAME.json`:"
   ]
  },
  {
   "cell_type": "code",
   "execution_count": null,
   "metadata": {
    "collapsed": false,
    "slideshow": {
     "slide_type": "fragment"
    }
   },
   "outputs": [],
   "source": [
    "{\n",
    " \"CONSUMER_KEY\": \"INSERT_HERE\",\n",
    " \"CONSUMER_SECRET\": \"INSERT_HERE\",\n",
    " \"ACCESS_TOKEN\": \"INSERT_HERE\",\n",
    " \"ACCESS_TOKEN_SECRET\": \"INSERT_HERE\",\n",
    "}"
   ]
  },
  {
   "cell_type": "markdown",
   "metadata": {
    "slideshow": {
     "slide_type": "slide"
    }
   },
   "source": [
    "## Installing the Python Twitter tools\n",
    "\n",
    "There are many python Twitter libraries around, we will use the [Python Twitter tools](https://pypi.python.org/pypi/twitter). "
   ]
  },
  {
   "cell_type": "markdown",
   "metadata": {
    "slideshow": {
     "slide_type": "fragment"
    }
   },
   "source": [
    "Download and install Anaconda python 3.5 from https://www.continuum.io/downloads\n",
    "After installing Anaconda python, start python and check that it says Anaconda (see example below):\n",
    "\n",
    "```\n",
    "% python\n",
    "Python 3.5.2 |Anaconda 2.5.0 (64-bit)| (default, Jul  2 2016, 17:53:06)\n",
    "[GCC 4.4.7 20120313 (Red Hat 4.4.7-1)] on linux\n",
    "Type \"help\", \"copyright\", \"credits\" or \"license\" for more information.\n",
    ">>>\n",
    "\n",
    "```\n",
    "\n",
    "Then, install the Twitter package:\n",
    "```\n",
    "% pip install twitter\n",
    "Collecting twitter\n",
    "  Downloading twitter-1.17.1-py2.py3-none-any.whl (55kB)\n",
    "      100% |████████████████████████████████| 61kB 3.1MB/s\n",
    "Installing collected packages: twitter\n",
    "Successfully installed twitter-1.17.1\n",
    "```\n",
    "\n",
    "To check if it worked:\n",
    "```\n",
    "% python\n",
    "% >>> import twitter\n",
    "```\n",
    "(If you don’t get any error message, your installation was successful!)\n",
    "\n",
    "Now we are all set to get data from Twitter!\n"
   ]
  },
  {
   "cell_type": "markdown",
   "metadata": {
    "slideshow": {
     "slide_type": "slide"
    }
   },
   "source": [
    "## Connecting to the Twitter API\n",
    "\n",
    "Twitter has two main APIs, the REST and Streaming API (see the [Twitter documentation](https://dev.twitter.com/overview/documentation) for more details). \n",
    "\n",
    "* The Streaming API gives you access to a *sample* of **real-time** tweets.\n",
    "* For anything that goes beyond a random sample, you'll use the REST API (e.g. searching for tweets that contain a specific search term). \n",
    "\n",
    "Typically we use the REST API, but the difference does not really matter much for us here.\n",
    "\n",
    "Let us get some data by connecting to the streaming API to get a real-time sample of tweets. "
   ]
  },
  {
   "cell_type": "markdown",
   "metadata": {
    "slideshow": {
     "slide_type": "slide"
    }
   },
   "source": [
    "### Get a sample of tweets from the Streaming API\n",
    "\n",
    "Copy the following code and save it as `twittersample.py` file. "
   ]
  },
  {
   "cell_type": "code",
   "execution_count": null,
   "metadata": {
    "collapsed": false,
    "slideshow": {
     "slide_type": "fragment"
    }
   },
   "outputs": [],
   "source": [
    "#!/usr/bin/env python3\n",
    "# Getting a sample of tweets\n",
    "# __author__: bplank\n",
    "import argparse\n",
    "import json\n",
    "from twitter import OAuth, TwitterStream\n",
    "\n",
    "parser = argparse.ArgumentParser(\"Example: Accessing the Twitter Streaming API\")\n",
    "parser.add_argument('--credentials','-c', help=\"user credentials (required)\",required=True)\n",
    "parser.add_argument('--count', help=\"number of tweets\", default=10)\n",
    "\n",
    "args = parser.parse_args()\n",
    "\n",
    "## Load your credentials\n",
    "credentials = json.load(open(args.credentials))\n",
    "\n",
    "CONSUMER_KEY=credentials[\"CONSUMER_KEY\"]\n",
    "CONSUMER_SECRET=credentials[\"CONSUMER_SECRET\"]\n",
    "ACCESS_TOKEN=credentials[\"ACCESS_TOKEN\"]\n",
    "ACCESS_TOKEN_SECRET=credentials[\"ACCESS_TOKEN_SECRET\"]\n",
    "\n",
    "my_authentication = OAuth(ACCESS_TOKEN, ACCESS_TOKEN_SECRET, CONSUMER_KEY, CONSUMER_SECRET)\n",
    "\n",
    "# Init the connection to the Twitter Streaming API\n",
    "twitter_stream = TwitterStream(auth=my_authentication)\n",
    "\n",
    "# Get a sample from the Twitter Streaming API (it's an endless loop)\n",
    "iterator = twitter_stream.statuses.sample()\n",
    "\n",
    "i=0\n",
    "for tweet in iterator:\n",
    "    if i > args.count:\n",
    "        break\n",
    "    if \"text\" in tweet:\n",
    "        text = tweet[\"text\"]\n",
    "        date = tweet[\"created_at\"]\n",
    "        print(text, date)\n",
    "    i+=1"
   ]
  },
  {
   "cell_type": "markdown",
   "metadata": {
    "slideshow": {
     "slide_type": "slide"
    }
   },
   "source": [
    "Now execute the script as follows, providing your credentials as argument: \n",
    "\n",
    "```\n",
    "python twittersample.py --credentials YOURFILE\n",
    "```\n",
    "\n",
    "Inside this Jupyter Notebook we can run the script (assuming it is stored in the same location as this notebook) by typing:"
   ]
  },
  {
   "cell_type": "code",
   "execution_count": 39,
   "metadata": {
    "collapsed": false,
    "slideshow": {
     "slide_type": "fragment"
    }
   },
   "outputs": [
    {
     "name": "stdout",
     "output_type": "stream",
     "text": [
      "#НаррилумСосётВИнсту\n",
      "https://t.co/wAVUTC2YkP\n",
      "пролайкаю вам фотки Sun Oct 02 14:54:14 +0000 2016\n",
      "jsuis censée faire mon commentaire de merde mais je parle religion avec Ryad mdrrr \n",
      "et c'est bien plus intéressant que jack london Sun Oct 02 14:54:14 +0000 2016\n",
      "RT @D_pukpui: ความอร่อยที่ลงตัวของน้ำผึ้งและมะนาวจนต้องหอบหิ้วมาฝากคนที่บ้าน #MilkOnTheRockBKK https://t.co/QOXUIoQb8H Sun Oct 02 14:54:14 +0000 2016\n",
      "Querer querernos 🎵 Sun Oct 02 14:54:14 +0000 2016\n",
      "RT @mokkoriJAPAN: 人間&lt;ゴリラ&lt;霊長類最強 https://t.co/WN0V21LdhF Sun Oct 02 14:54:14 +0000 2016\n",
      "このトラック数である https://t.co/3be8LgIX7b Sun Oct 02 14:54:13 +0000 2016\n",
      "Bagaimana kabarmu disana adekku...\n",
      "Semoga kamu dn seluruh keluarga disana terutama ayah dn ibu… https://t.co/UircUTgzqx Sun Oct 02 14:54:14 +0000 2016\n",
      "2017 will be GREAT Sun Oct 02 14:54:14 +0000 2016\n",
      "@bloom_ej 흑흑.... 바서비.... ㅠㅠ 머싯따... Sun Oct 02 14:54:14 +0000 2016\n",
      "RT @partyhike: 『女子は清潔感のあるおっさんなら好き』とツイートしたら、フォロワーから『清潔感のあるおっさんが好き』というのは『カレー味のウンコなら食べられる』というのと同じぐらい狂った言説であり、それは『おっさんが絶望で自殺しないための優しい嘘である』って意見を… Sun Oct 02 14:54:14 +0000 2016\n"
     ]
    }
   ],
   "source": [
    "%run twittersample.py --credentials private/credentials-barbara.json"
   ]
  },
  {
   "cell_type": "markdown",
   "metadata": {
    "slideshow": {
     "slide_type": "slide"
    }
   },
   "source": [
    "## A single tweet\n",
    "\n",
    "In the example above, we extracted two pieces of information: the text and the creation data of the tweet. However, there is much more information contained in a single tweet. \n",
    "\n",
    "<img src=\"https://cdn-images-1.medium.com/max/1600/1*HHq5BFKMTV5TArxo6mqu_w.jpeg\">"
   ]
  },
  {
   "cell_type": "markdown",
   "metadata": {
    "slideshow": {
     "slide_type": "slide"
    }
   },
   "source": [
    "The Twitter API returns data in [JSON](http://www.w3schools.com/js/js_json_intro.asp) format, and a single tweet contains *a lot of meta-data*.\n",
    "\n",
    "For example, the following tweet:\n",
    "\n",
    "<img src=\"pics/tweet.png\" width=600>\n",
    "\n",
    "is represented in JSON as:\n"
   ]
  },
  {
   "cell_type": "code",
   "execution_count": 40,
   "metadata": {
    "collapsed": false,
    "slideshow": {
     "slide_type": "fragment"
    }
   },
   "outputs": [],
   "source": [
    "tweet = {'source': '<a href=\"http://twitter.com\" rel=\"nofollow\">Twitter Web Client</a>', 'in_reply_to_user_id_str': None, 'favorited': False, 'possibly_sensitive': False, 'in_reply_to_status_id': None, 'user': {'listed_count': 16, 'profile_link_color': '0084B4', 'profile_text_color': '333333', 'description': '', 'profile_background_tile': False, 'follow_request_sent': False, 'profile_image_url': 'http://pbs.twimg.com/profile_images/605391347437043712/CFz1Qh3Y_normal.jpg', 'contributors_enabled': False, 'profile_background_image_url_https': 'https://abs.twimg.com/images/themes/theme1/bg.png', 'profile_background_image_url': 'http://abs.twimg.com/images/themes/theme1/bg.png', 'url': 'https://t.co/VGUuVzPsq4', 'lang': 'en', 'id_str': '3232640646', 'profile_sidebar_border_color': 'C0DEED', 'friends_count': 183, 'time_zone': None, 'id': 3232640646, 'verified': False, 'created_at': 'Mon Jun 01 15:10:28 +0000 2015', 'profile_sidebar_fill_color': 'DDEEF6', 'has_extended_profile': False, 'geo_enabled': False, 'default_profile_image': False, 'profile_background_color': 'C0DEED', 'utc_offset': None, 'protected': False, 'name': 'Barbara Plank', 'followers_count': 311, 'is_translator': False, 'location': '', 'notifications': False, 'default_profile': True, 'profile_banner_url': 'https://pbs.twimg.com/profile_banners/3232640646/1451321777', 'is_translation_enabled': False, 'profile_use_background_image': True, 'entities': {'description': {'urls': []}, 'url': {'urls': [{'indices': [0, 23], 'url': 'https://t.co/VGUuVzPsq4', 'expanded_url': 'http://www.let.rug.nl/bplank', 'display_url': 'let.rug.nl/bplank'}]}}, 'following': False, 'statuses_count': 332, 'profile_image_url_https': 'https://pbs.twimg.com/profile_images/605391347437043712/CFz1Qh3Y_normal.jpg', 'favourites_count': 401, 'screen_name': 'barbara_plank'}, 'created_at': 'Sun Sep 25 17:33:32 +0000 2016', 'lang': 'en', 'retweet_count': 26, 'coordinates': None, 'truncated': False, 'entities': {'user_mentions': [], 'urls': [{'indices': [45, 68], 'url': 'https://t.co/KufGegGnmn', 'expanded_url': 'http://coling2016.anlp.jp/', 'display_url': 'coling2016.anlp.jp'}], 'hashtags': [{'indices': [31, 42], 'text': 'coling2016'}, {'indices': [69, 76], 'text': 'NLProc'}], 'symbols': []}, 'in_reply_to_user_id': None, 'metadata': {'result_type': 'recent', 'iso_language_code': 'en'}, 'favorite_count': 12, 'id': 780097921249411076, 'in_reply_to_status_id_str': None, 'contributors': None, 'in_reply_to_screen_name': None, 'is_quote_status': False, 'retweeted': False, 'text': 'Accepted COLING papers are out #coling2016 - https://t.co/KufGegGnmn #NLProc', 'place': None, 'id_str': '780097921249411076', 'geo': None}"
   ]
  },
  {
   "cell_type": "markdown",
   "metadata": {
    "slideshow": {
     "slide_type": "fragment"
    }
   },
   "source": [
    "Well, we don't see much of the information, let us use the pretty-print function to examine the content of the tweet's JSON format:"
   ]
  },
  {
   "cell_type": "code",
   "execution_count": 41,
   "metadata": {
    "collapsed": false,
    "slideshow": {
     "slide_type": "fragment"
    }
   },
   "outputs": [
    {
     "name": "stdout",
     "output_type": "stream",
     "text": [
      "{\n",
      "    \"in_reply_to_status_id\": null,\n",
      "    \"entities\": {\n",
      "        \"hashtags\": [\n",
      "            {\n",
      "                \"indices\": [\n",
      "                    31,\n",
      "                    42\n",
      "                ],\n",
      "                \"text\": \"coling2016\"\n",
      "            },\n",
      "            {\n",
      "                \"indices\": [\n",
      "                    69,\n",
      "                    76\n",
      "                ],\n",
      "                \"text\": \"NLProc\"\n",
      "            }\n",
      "        ],\n",
      "        \"symbols\": [],\n",
      "        \"user_mentions\": [],\n",
      "        \"urls\": [\n",
      "            {\n",
      "                \"expanded_url\": \"http://coling2016.anlp.jp/\",\n",
      "                \"indices\": [\n",
      "                    45,\n",
      "                    68\n",
      "                ],\n",
      "                \"url\": \"https://t.co/KufGegGnmn\",\n",
      "                \"display_url\": \"coling2016.anlp.jp\"\n",
      "            }\n",
      "        ]\n",
      "    },\n",
      "    \"geo\": null,\n",
      "    \"id\": 780097921249411076,\n",
      "    \"created_at\": \"Sun Sep 25 17:33:32 +0000 2016\",\n",
      "    \"is_quote_status\": false,\n",
      "    \"coordinates\": null,\n",
      "    \"id_str\": \"780097921249411076\",\n",
      "    \"favorited\": false,\n",
      "    \"contributors\": null,\n",
      "    \"favorite_count\": 12,\n",
      "    \"retweeted\": false,\n",
      "    \"in_reply_to_user_id_str\": null,\n",
      "    \"truncated\": false,\n",
      "    \"place\": null,\n",
      "    \"lang\": \"en\",\n",
      "    \"user\": {\n",
      "        \"entities\": {\n",
      "            \"url\": {\n",
      "                \"urls\": [\n",
      "                    {\n",
      "                        \"expanded_url\": \"http://www.let.rug.nl/bplank\",\n",
      "                        \"indices\": [\n",
      "                            0,\n",
      "                            23\n",
      "                        ],\n",
      "                        \"url\": \"https://t.co/VGUuVzPsq4\",\n",
      "                        \"display_url\": \"let.rug.nl/bplank\"\n",
      "                    }\n",
      "                ]\n",
      "            },\n",
      "            \"description\": {\n",
      "                \"urls\": []\n",
      "            }\n",
      "        },\n",
      "        \"listed_count\": 16,\n",
      "        \"name\": \"Barbara Plank\",\n",
      "        \"profile_background_color\": \"C0DEED\",\n",
      "        \"screen_name\": \"barbara_plank\",\n",
      "        \"profile_background_image_url\": \"http://abs.twimg.com/images/themes/theme1/bg.png\",\n",
      "        \"notifications\": false,\n",
      "        \"id\": 3232640646,\n",
      "        \"has_extended_profile\": false,\n",
      "        \"created_at\": \"Mon Jun 01 15:10:28 +0000 2015\",\n",
      "        \"profile_image_url_https\": \"https://pbs.twimg.com/profile_images/605391347437043712/CFz1Qh3Y_normal.jpg\",\n",
      "        \"followers_count\": 311,\n",
      "        \"time_zone\": null,\n",
      "        \"utc_offset\": null,\n",
      "        \"location\": \"\",\n",
      "        \"profile_use_background_image\": true,\n",
      "        \"verified\": false,\n",
      "        \"description\": \"\",\n",
      "        \"is_translation_enabled\": false,\n",
      "        \"contributors_enabled\": false,\n",
      "        \"id_str\": \"3232640646\",\n",
      "        \"profile_link_color\": \"0084B4\",\n",
      "        \"geo_enabled\": false,\n",
      "        \"favourites_count\": 401,\n",
      "        \"friends_count\": 183,\n",
      "        \"follow_request_sent\": false,\n",
      "        \"default_profile\": true,\n",
      "        \"default_profile_image\": false,\n",
      "        \"profile_text_color\": \"333333\",\n",
      "        \"protected\": false,\n",
      "        \"following\": false,\n",
      "        \"is_translator\": false,\n",
      "        \"profile_background_tile\": false,\n",
      "        \"profile_background_image_url_https\": \"https://abs.twimg.com/images/themes/theme1/bg.png\",\n",
      "        \"url\": \"https://t.co/VGUuVzPsq4\",\n",
      "        \"statuses_count\": 332,\n",
      "        \"lang\": \"en\",\n",
      "        \"profile_banner_url\": \"https://pbs.twimg.com/profile_banners/3232640646/1451321777\",\n",
      "        \"profile_sidebar_fill_color\": \"DDEEF6\",\n",
      "        \"profile_sidebar_border_color\": \"C0DEED\",\n",
      "        \"profile_image_url\": \"http://pbs.twimg.com/profile_images/605391347437043712/CFz1Qh3Y_normal.jpg\"\n",
      "    },\n",
      "    \"in_reply_to_status_id_str\": null,\n",
      "    \"source\": \"<a href=\\\"http://twitter.com\\\" rel=\\\"nofollow\\\">Twitter Web Client</a>\",\n",
      "    \"in_reply_to_user_id\": null,\n",
      "    \"possibly_sensitive\": false,\n",
      "    \"metadata\": {\n",
      "        \"iso_language_code\": \"en\",\n",
      "        \"result_type\": \"recent\"\n",
      "    },\n",
      "    \"text\": \"Accepted COLING papers are out #coling2016 - https://t.co/KufGegGnmn #NLProc\",\n",
      "    \"in_reply_to_screen_name\": null,\n",
      "    \"retweet_count\": 26\n",
      "}\n"
     ]
    }
   ],
   "source": [
    "# let us use pretty print function\n",
    "print(json.dumps(tweet, indent=4))"
   ]
  },
  {
   "cell_type": "markdown",
   "metadata": {
    "slideshow": {
     "slide_type": "slide"
    }
   },
   "source": [
    "There is a lot of additional metadata in a single tweet!\n",
    "\n",
    "The following map by Raffi Krikorian (taken from Wei Xu's social media class) explains the content of a tweet:\n",
    "\n",
    "<img src=\"http://socialmedia-class.org/assets/img/raffi-krikorian-map-of-a-tweet.png\">"
   ]
  },
  {
   "cell_type": "markdown",
   "metadata": {
    "slideshow": {
     "slide_type": "slide"
    }
   },
   "source": [
    "### Language identification (LangID)\n",
    "\n",
    "In the streaming sample we encountered tweets in many different languages."
   ]
  },
  {
   "cell_type": "markdown",
   "metadata": {
    "slideshow": {
     "slide_type": "fragment"
    }
   },
   "source": [
    "#### Language distribution on Twitter \n",
    "<img src=\"pics/langdistribution.png\" width=700> (Verhoeven, Plank, Daelemans, 2016)"
   ]
  },
  {
   "cell_type": "markdown",
   "metadata": {
    "slideshow": {
     "slide_type": "slide"
    }
   },
   "source": [
    "Note that each tweet contains a `lang` attribute, as also shown in Krikorian's map. \n",
    "However, this attribute is actually **outdated**. \n",
    "\n",
    "Since 2013 Twitter uses automatic language identification, and `lang` now contains the predicted language. The attribute can also contain `und` (for undefined). For more information:\n",
    "\n",
    "* [Twitter: Introduction new metadata, 2013](https://blog.twitter.com/2013/introducing-new-metadata-for-tweets)\n",
    "* [Evaluating Language Identification performance, 2015](https://blog.twitter.com/2015/evaluating-language-identification-performance)\n",
    "\n",
    "For our example tweet:"
   ]
  },
  {
   "cell_type": "code",
   "execution_count": 42,
   "metadata": {
    "collapsed": false,
    "slideshow": {
     "slide_type": "fragment"
    }
   },
   "outputs": [
    {
     "data": {
      "text/plain": [
       "'en'"
      ]
     },
     "execution_count": 42,
     "metadata": {},
     "output_type": "execute_result"
    }
   ],
   "source": [
    "tweet['lang']"
   ]
  },
  {
   "cell_type": "markdown",
   "metadata": {
    "slideshow": {
     "slide_type": "slide"
    }
   },
   "source": [
    "### A language identification toolkit\n",
    "\n",
    "A easy-to-use language idenficiation toolkit has been implmented in `langid` [Lui and Baldwin, 2012](www.aclweb.org/anthology/P12-3005). It covers approximately 100 languages. You can install it with `pip install langid`. \n",
    "\n",
    "It's based on the Naive Bayes algorithm. And it's easy to use:"
   ]
  },
  {
   "cell_type": "code",
   "execution_count": 9,
   "metadata": {
    "collapsed": false,
    "slideshow": {
     "slide_type": "fragment"
    }
   },
   "outputs": [
    {
     "data": {
      "text/plain": [
       "('en', -119.58683443069458)"
      ]
     },
     "execution_count": 9,
     "metadata": {},
     "output_type": "execute_result"
    }
   ],
   "source": [
    "import langid\n",
    "langid.classify(\"this is a sample test. Which language, what's your guess?\")"
   ]
  },
  {
   "cell_type": "code",
   "execution_count": 11,
   "metadata": {
    "collapsed": false,
    "slideshow": {
     "slide_type": "fragment"
    }
   },
   "outputs": [
    {
     "data": {
      "text/plain": [
       "('nl', -21.903905391693115)"
      ]
     },
     "execution_count": 11,
     "metadata": {},
     "output_type": "execute_result"
    }
   ],
   "source": [
    "langid.classify(\"en nu is het?\")"
   ]
  },
  {
   "cell_type": "code",
   "execution_count": 12,
   "metadata": {
    "collapsed": false,
    "slideshow": {
     "slide_type": "fragment"
    }
   },
   "outputs": [
    {
     "data": {
      "text/plain": [
       "('de', -81.0643835067749)"
      ]
     },
     "execution_count": 12,
     "metadata": {},
     "output_type": "execute_result"
    }
   ],
   "source": [
    "langid.classify(\"des isch iatz ober schwieriger..\")"
   ]
  },
  {
   "cell_type": "markdown",
   "metadata": {
    "slideshow": {
     "slide_type": "slide"
    }
   },
   "source": [
    "### Searching tweets by query term\n",
    "\n",
    "Typically we would like to search for tweets that contain a particular **search term**. This is simple with the Twitter Python tools, as the following code snippet shows."
   ]
  },
  {
   "cell_type": "code",
   "execution_count": 8,
   "metadata": {
    "collapsed": false,
    "slideshow": {
     "slide_type": "fragment"
    }
   },
   "outputs": [
    {
     "name": "stdout",
     "output_type": "stream",
     "text": [
      "Vanmiddag #trainee #intervisie met als thema #omdenken #trainees @gem_groningen en @Gemeente_Assen\n",
      "Melding : p 5 oefening brand gebouw nb:middel br 01-18-650 gasunie concourslaan 17 groningen 011832 https://t.co/oB09UKLP2g\n",
      "Melding : p 5 oefening brand gebouw 01-18-650 gasunie concourslaan groningen 011833 011851 https://t.co/bWcrxQBXJW\n",
      "Keynote lecture de @jpujolar al congrés @PuzzlingEurope a Rijksuniversiteit Groningen https://t.co/z4NcqbPQKk …\n",
      "@UOCartshum @COSTNewSpeakers\n",
      "P 5 Oefening Brand Gebouw (NB:Middel Br) 01-18-650 Gasunie Concourslaan 17 Groningen 011832~\n",
      "P 5 Oefening Brand Gebouw 01-18-650 Gasunie Concourslaan 17 Groningen 011833 011851~\n",
      "Als burger je recht halen in Groningen: informatie van de hoogleraren\n",
      "\n",
      "Zowel de boerderij van Annemarie Heite als... https://t.co/0ffQIYlanb\n",
      "27-10 13:44: P 5 Oefening Brand Gebouw (NB:Middel Br) 01-18-650 Gasunie Concourslaan 17 Groningen 011832 https://t.co/xBDI85xieY\n",
      "Er is een Belgisch akkoord over CETA https://t.co/Cx1c19qkFV\n",
      "13:44:39|Groningen|P 5 Oefening Brand Gebouw (NB:Middel Br) 01-18-650 Gasunie Concourslaan 17 Groningen 011832\n"
     ]
    }
   ],
   "source": [
    "import twitter\n",
    "import json\n",
    "from twitter import Twitter, OAuth, TwitterStream\n",
    "\n",
    "cred = json.load(open(\"private/credentials-barbara.json\"))\n",
    "# Initiate the connection to Twitter REST API\n",
    "\n",
    "my_authentication = OAuth(cred[\"ACCESS_TOKEN\"], cred[\"ACCESS_TOKEN_SECRET\"], \\\n",
    "                          cred[\"CONSUMER_KEY\"], cred[\"CONSUMER_SECRET\"])\n",
    "\n",
    "twitter = Twitter(auth=my_authentication)\n",
    "\n",
    "# Search for latest tweets about Groningen\n",
    "query =  twitter.search.tweets(q='Groningen',count=10)\n",
    "for tweet in query[\"statuses\"]:\n",
    "    print(tweet['text'])"
   ]
  },
  {
   "cell_type": "markdown",
   "metadata": {
    "slideshow": {
     "slide_type": "notes"
    }
   },
   "source": [
    "Now we fetch the last tweet and examine who posted it:"
   ]
  },
  {
   "cell_type": "code",
   "execution_count": 9,
   "metadata": {
    "collapsed": false,
    "slideshow": {
     "slide_type": "notes"
    }
   },
   "outputs": [
    {
     "name": "stdout",
     "output_type": "stream",
     "text": [
      "P2000NN® Wed Sep 18 10:51:55 +0000 2013\n"
     ]
    }
   ],
   "source": [
    "tweet = query['statuses'][-1]\n",
    "print(tweet['user']['name'],tweet['user']['created_at'])"
   ]
  },
  {
   "cell_type": "markdown",
   "metadata": {
    "slideshow": {
     "slide_type": "slide"
    }
   },
   "source": [
    "### Extra 1: Getting the tweets of a specific user"
   ]
  },
  {
   "cell_type": "code",
   "execution_count": 10,
   "metadata": {
    "collapsed": false,
    "slideshow": {
     "slide_type": "fragment"
    }
   },
   "outputs": [
    {
     "data": {
      "text/plain": [
       "[{'contributors': None,\n",
       "  'coordinates': None,\n",
       "  'created_at': 'Wed Oct 26 16:55:53 +0000 2016',\n",
       "  'entities': {'hashtags': [],\n",
       "   'symbols': [],\n",
       "   'urls': [],\n",
       "   'user_mentions': [{'id': 214062910,\n",
       "     'id_str': '214062910',\n",
       "     'indices': [0, 9],\n",
       "     'name': 'Sara Tonelli',\n",
       "     'screen_name': 'sara_hlt'}]},\n",
       "  'favorite_count': 1,\n",
       "  'favorited': False,\n",
       "  'geo': None,\n",
       "  'id': 791322468426317826,\n",
       "  'id_str': '791322468426317826',\n",
       "  'in_reply_to_screen_name': 'sara_hlt',\n",
       "  'in_reply_to_status_id': 791179136148570112,\n",
       "  'in_reply_to_status_id_str': '791179136148570112',\n",
       "  'in_reply_to_user_id': 214062910,\n",
       "  'in_reply_to_user_id_str': '214062910',\n",
       "  'is_quote_status': False,\n",
       "  'lang': 'en',\n",
       "  'place': None,\n",
       "  'retweet_count': 0,\n",
       "  'retweeted': False,\n",
       "  'source': '<a href=\"http://twitter.com\" rel=\"nofollow\">Twitter Web Client</a>',\n",
       "  'text': '@sara_hlt have to, really! hopefully soon.. maybe January?! lets keep in touch!',\n",
       "  'truncated': False,\n",
       "  'user': {'contributors_enabled': False,\n",
       "   'created_at': 'Mon Jun 01 15:10:28 +0000 2015',\n",
       "   'default_profile': True,\n",
       "   'default_profile_image': False,\n",
       "   'description': '',\n",
       "   'entities': {'description': {'urls': []},\n",
       "    'url': {'urls': [{'display_url': 'let.rug.nl/bplank',\n",
       "       'expanded_url': 'http://www.let.rug.nl/bplank',\n",
       "       'indices': [0, 23],\n",
       "       'url': 'https://t.co/VGUuVzPsq4'}]}},\n",
       "   'favourites_count': 432,\n",
       "   'follow_request_sent': False,\n",
       "   'followers_count': 330,\n",
       "   'following': False,\n",
       "   'friends_count': 186,\n",
       "   'geo_enabled': False,\n",
       "   'has_extended_profile': False,\n",
       "   'id': 3232640646,\n",
       "   'id_str': '3232640646',\n",
       "   'is_translation_enabled': False,\n",
       "   'is_translator': False,\n",
       "   'lang': 'en',\n",
       "   'listed_count': 17,\n",
       "   'location': '',\n",
       "   'name': 'Barbara Plank',\n",
       "   'notifications': False,\n",
       "   'profile_background_color': 'C0DEED',\n",
       "   'profile_background_image_url': 'http://abs.twimg.com/images/themes/theme1/bg.png',\n",
       "   'profile_background_image_url_https': 'https://abs.twimg.com/images/themes/theme1/bg.png',\n",
       "   'profile_background_tile': False,\n",
       "   'profile_banner_url': 'https://pbs.twimg.com/profile_banners/3232640646/1451321777',\n",
       "   'profile_image_url': 'http://pbs.twimg.com/profile_images/605391347437043712/CFz1Qh3Y_normal.jpg',\n",
       "   'profile_image_url_https': 'https://pbs.twimg.com/profile_images/605391347437043712/CFz1Qh3Y_normal.jpg',\n",
       "   'profile_link_color': '0084B4',\n",
       "   'profile_sidebar_border_color': 'C0DEED',\n",
       "   'profile_sidebar_fill_color': 'DDEEF6',\n",
       "   'profile_text_color': '333333',\n",
       "   'profile_use_background_image': True,\n",
       "   'protected': False,\n",
       "   'screen_name': 'barbara_plank',\n",
       "   'statuses_count': 352,\n",
       "   'time_zone': None,\n",
       "   'translator_type': 'none',\n",
       "   'url': 'https://t.co/VGUuVzPsq4',\n",
       "   'utc_offset': None,\n",
       "   'verified': False}},\n",
       " {'contributors': None,\n",
       "  'coordinates': None,\n",
       "  'created_at': 'Wed Oct 26 16:55:10 +0000 2016',\n",
       "  'entities': {'hashtags': [],\n",
       "   'symbols': [],\n",
       "   'urls': [],\n",
       "   'user_mentions': [{'id': 262191481,\n",
       "     'id_str': '262191481',\n",
       "     'indices': [0, 16],\n",
       "     'name': 'Mark Stevenson',\n",
       "     'screen_name': 'drmarkstevenson'},\n",
       "    {'id': 87665850,\n",
       "     'id_str': '87665850',\n",
       "     'indices': [17, 30],\n",
       "     'name': 'Sheffield NLP',\n",
       "     'screen_name': 'SheffieldNLP'}]},\n",
       "  'favorite_count': 0,\n",
       "  'favorited': False,\n",
       "  'geo': None,\n",
       "  'id': 791322290973765632,\n",
       "  'id_str': '791322290973765632',\n",
       "  'in_reply_to_screen_name': 'drmarkstevenson',\n",
       "  'in_reply_to_status_id': 791293575443148802,\n",
       "  'in_reply_to_status_id_str': '791293575443148802',\n",
       "  'in_reply_to_user_id': 262191481,\n",
       "  'in_reply_to_user_id_str': '262191481',\n",
       "  'is_quote_status': False,\n",
       "  'lang': 'en',\n",
       "  'place': None,\n",
       "  'retweet_count': 0,\n",
       "  'retweeted': False,\n",
       "  'source': '<a href=\"http://twitter.com\" rel=\"nofollow\">Twitter Web Client</a>',\n",
       "  'text': '@drmarkstevenson @SheffieldNLP it was my pleasure! I very much enjoyed :) boarding now, see you all soon again!',\n",
       "  'truncated': False,\n",
       "  'user': {'contributors_enabled': False,\n",
       "   'created_at': 'Mon Jun 01 15:10:28 +0000 2015',\n",
       "   'default_profile': True,\n",
       "   'default_profile_image': False,\n",
       "   'description': '',\n",
       "   'entities': {'description': {'urls': []},\n",
       "    'url': {'urls': [{'display_url': 'let.rug.nl/bplank',\n",
       "       'expanded_url': 'http://www.let.rug.nl/bplank',\n",
       "       'indices': [0, 23],\n",
       "       'url': 'https://t.co/VGUuVzPsq4'}]}},\n",
       "   'favourites_count': 432,\n",
       "   'follow_request_sent': False,\n",
       "   'followers_count': 330,\n",
       "   'following': False,\n",
       "   'friends_count': 186,\n",
       "   'geo_enabled': False,\n",
       "   'has_extended_profile': False,\n",
       "   'id': 3232640646,\n",
       "   'id_str': '3232640646',\n",
       "   'is_translation_enabled': False,\n",
       "   'is_translator': False,\n",
       "   'lang': 'en',\n",
       "   'listed_count': 17,\n",
       "   'location': '',\n",
       "   'name': 'Barbara Plank',\n",
       "   'notifications': False,\n",
       "   'profile_background_color': 'C0DEED',\n",
       "   'profile_background_image_url': 'http://abs.twimg.com/images/themes/theme1/bg.png',\n",
       "   'profile_background_image_url_https': 'https://abs.twimg.com/images/themes/theme1/bg.png',\n",
       "   'profile_background_tile': False,\n",
       "   'profile_banner_url': 'https://pbs.twimg.com/profile_banners/3232640646/1451321777',\n",
       "   'profile_image_url': 'http://pbs.twimg.com/profile_images/605391347437043712/CFz1Qh3Y_normal.jpg',\n",
       "   'profile_image_url_https': 'https://pbs.twimg.com/profile_images/605391347437043712/CFz1Qh3Y_normal.jpg',\n",
       "   'profile_link_color': '0084B4',\n",
       "   'profile_sidebar_border_color': 'C0DEED',\n",
       "   'profile_sidebar_fill_color': 'DDEEF6',\n",
       "   'profile_text_color': '333333',\n",
       "   'profile_use_background_image': True,\n",
       "   'protected': False,\n",
       "   'screen_name': 'barbara_plank',\n",
       "   'statuses_count': 352,\n",
       "   'time_zone': None,\n",
       "   'translator_type': 'none',\n",
       "   'url': 'https://t.co/VGUuVzPsq4',\n",
       "   'utc_offset': None,\n",
       "   'verified': False}}]"
      ]
     },
     "execution_count": 10,
     "metadata": {},
     "output_type": "execute_result"
    }
   ],
   "source": [
    "# Get a particular user's timeline (up to 3,200 of his/her most recent tweets)\n",
    "data = twitter.statuses.user_timeline(screen_name=\"barbara_plank\",count=2)\n",
    "data"
   ]
  },
  {
   "cell_type": "markdown",
   "metadata": {},
   "source": [
    "Note that even if you specify `count` as more than 200, the Twitter API is limited to retrieve only up to the 200 most recent tweets. See: [https://dev.twitter.com/rest/reference/get/statuses/user_timeline]"
   ]
  },
  {
   "cell_type": "markdown",
   "metadata": {},
   "source": [
    "## *UPDATE*: Getting the tweets of a user (>200!)\n",
    "\n",
    "The standard Twitter API we used above is limited, it retrieves only up to 200 tweets per user. In order to retrieve more (up to roughly 3000 tweets), we have to resort to another library, namely `TwitterSearch` [https://twittersearch.readthedocs.io/]."
   ]
  },
  {
   "cell_type": "markdown",
   "metadata": {},
   "source": [
    "We install `TwitterSearch` with pip:\n",
    "\n",
    "`pip install TwitterSearch`"
   ]
  },
  {
   "cell_type": "code",
   "execution_count": 16,
   "metadata": {
    "collapsed": false
   },
   "outputs": [
    {
     "name": "stdout",
     "output_type": "stream",
     "text": [
      "Show 10 tweets:\n",
      "@sara_hlt have to, really! hopefully soon.. maybe January?! lets keep in touch!\n",
      "@drmarkstevenson @SheffieldNLP it was my pleasure! I very much enjoyed :) boarding now, see you all soon again!\n",
      "I'm currently visiting @SheffieldNLP -- giving a talk tomorrow at 12h -- swing by :)\n",
      "@LeonDerczynski true!\n",
      "RT @SebastienBubeck: Already 8000 registered for NIPS 2016, it's insane...\n",
      "@LeonDerczynski so now it's back it seems? for you, too?\n",
      "RT @peoples2016: #peoples2016 list of accepted papers online: https://t.co/9e0j4gm9VC - Congrats to all authors! #coling2016  #NLProc\n",
      "RT @zehavoc: Giving a talk in Paris has its virtues :) @barbara_plank @H_ctorMart_nez loved it! https://t.co/ULeSyFmHPa\n",
      "Groningen, that's another +2h  [no fast connection, unfortunately, they debated for decades..]\n",
      "btw: the Thalys connection from Amsterdam to Paris is fantastic (~3h and your are in the middle of the city) -- flying'd be a waste of time\n",
      "\n",
      "total: 352\n"
     ]
    }
   ],
   "source": [
    "import json\n",
    "from TwitterSearch import TwitterUserOrder, TwitterSearch\n",
    "\n",
    "cred = json.load(open(\"private/credentials-barbara.json\"))\n",
    "my_authentication = OAuth(cred[\"ACCESS_TOKEN\"], cred[\"ACCESS_TOKEN_SECRET\"], \\\n",
    "                          cred[\"CONSUMER_KEY\"], cred[\"CONSUMER_SECRET\"])\n",
    "\n",
    "ts = TwitterSearch(access_token=cred[\"ACCESS_TOKEN\"],access_token_secret=cred[\"ACCESS_TOKEN_SECRET\"],\n",
    "                       consumer_key=cred[\"CONSUMER_KEY\"], consumer_secret=cred[\"CONSUMER_SECRET\"])\n",
    "\n",
    "username=\"barbara_plank\"\n",
    "twitter_user_order = TwitterUserOrder(username)\n",
    "\n",
    "all_tweets = []\n",
    "for tweet in ts.search_tweets_iterable(twitter_user_order):\n",
    "    all_tweets.append(tweet)\n",
    "\n",
    "print(\"Show 10 tweets:\")\n",
    "for tweet in all_tweets[0:10]:\n",
    "    print(tweet['text'])\n",
    "\n",
    "print(\"\")\n",
    "print(\"total: {}\".format(len(all_tweets)))"
   ]
  },
  {
   "cell_type": "markdown",
   "metadata": {
    "slideshow": {
     "slide_type": "slide"
    }
   },
   "source": [
    "### Extra 2: Plotting my last 100 tweets (by month_year)"
   ]
  },
  {
   "cell_type": "code",
   "execution_count": 5,
   "metadata": {
    "collapsed": false,
    "slideshow": {
     "slide_type": "fragment"
    }
   },
   "outputs": [
    {
     "data": {
      "text/plain": [
       "<matplotlib.axes._subplots.AxesSubplot at 0x10db0e780>"
      ]
     },
     "execution_count": 5,
     "metadata": {},
     "output_type": "execute_result"
    },
    {
     "data": {
      "image/png": "[encoded data removed]",
      "text/plain": [
       "<matplotlib.figure.Figure at 0x10db02f60>"
      ]
     },
     "metadata": {},
     "output_type": "display_data"
    }
   ],
   "source": [
    "%matplotlib inline \n",
    "from twitter import Twitter\n",
    "import pandas as pd\n",
    "import numpy as np\n",
    "import seaborn as sb #optional: for prettier plotting\n",
    "from collections import Counter\n",
    "from dateutil.parser import parse\n",
    "\n",
    "my_tweets = twitter.statuses.user_timeline(screen_name=\"barbara_plank\",count=100)\n",
    "times = [parse(tweet['created_at']) for tweet in my_tweets]\n",
    "month_year = [\"{}_{}\".format(t.month, t.year) for t in times]\n",
    "timeseries = pd.Series(Counter(month_year))\n",
    "timeseries.plot(kind='bar')"
   ]
  },
  {
   "cell_type": "markdown",
   "metadata": {
    "slideshow": {
     "slide_type": "slide"
    }
   },
   "source": [
    "## Exercises:\n",
    "\n",
    "1. Search for tweets that contain the hashtag \"#NLProc\".\n",
    "2. Modify `twittersample.py` so that it returns entire JSON object. Save the output of the script in a file.\n",
    "3. Examine the language identification attribute of a sample of 50 tweets. Compare it to `langid`'s language guesser.\n"
   ]
  },
  {
   "cell_type": "markdown",
   "metadata": {
    "slideshow": {
     "slide_type": "slide"
    }
   },
   "source": [
    "# References\n",
    "\n",
    "* [Wei Xu's ultimate Twitter tutorial](http://socialmedia-class.org/twittertutorial.html)\n",
    "* Matthew A. Russel *Mining the Social Web*. O'Reilly, 2014.\n",
    "* Mitja Trampus, [Evaluating language identification performance](https://blog.twitter.com/2015/evaluating-language-identification-performance). Twitter blog, 2015.\n",
    "* Lui & Baldwin. [langid.py: An Off-the-shelf Language Identification Tool](http://www.aclweb.org/anthology/P12-3005) In ACL, 2012."
   ]
  }
 ],
 "metadata": {
  "celltoolbar": "Slideshow",
  "kernelspec": {
   "display_name": "Python 3",
   "language": "python",
   "name": "python3"
  },
  "language_info": {
   "codemirror_mode": {
    "name": "ipython",
    "version": 3
   },
   "file_extension": ".py",
   "mimetype": "text/x-python",
   "name": "python",
   "nbconvert_exporter": "python",
   "pygments_lexer": "ipython3",
   "version": "3.5.2"
  }
 },
 "nbformat": 4,
 "nbformat_minor": 0
}
