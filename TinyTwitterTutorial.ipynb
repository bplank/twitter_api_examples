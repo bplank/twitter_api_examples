{
 "cells": [
  {
   "cell_type": "markdown",
   "metadata": {
    "slideshow": {
     "slide_type": "slide"
    }
   },
   "source": [
    "# Tiny Twitter tutorial\n",
    "\n",
    "by [@barbara_plank](http://www.twitter.com/barbara_plank)"
   ]
  },
  {
   "cell_type": "markdown",
   "metadata": {
    "slideshow": {
     "slide_type": "notes"
    }
   },
   "source": [
    "In this notebook you will see how you can access Twitter using the Twitter's API. \n",
    "\n",
    "**Further literature** An excellent (and more detailed) introduction to the Twitter API is the ultimate [Twitter tutorial by Wei Xu](http://socialmedia-class.org/twittertutorial.html), which this material is largely based on. Thanks, Wei!"
   ]
  },
  {
   "cell_type": "markdown",
   "metadata": {},
   "source": [
    "## Twitter's API\n",
    "\n",
    "An API is an *application programming interface*, a set of functions in some programming language that allow you to access functionality of some system. \n",
    "\n"
   ]
  },
  {
   "cell_type": "markdown",
   "metadata": {
    "slideshow": {
     "slide_type": "slide"
    }
   },
   "source": [
    "## Getting access credentials\n",
    "\n",
    "Before you can make any request to the Twitter API, you need to get access credentials. The first step is to create a Twitter account (unless you already have one) and then create an application on [http://dev.twitter.com/apps](http://dev.twitter.com/apps)"
   ]
  },
  {
   "cell_type": "markdown",
   "metadata": {
    "collapsed": true,
    "slideshow": {
     "slide_type": "fragment"
    }
   },
   "source": [
    "1. Log in to [http://dev.twitter.com/apps](http://dev.twitter.com/apps) and press 'Create New App'. \n",
    "2. Enter the required information (name, description, website) and create your Twitter application.\n",
    "3. Go to 'Key and Access Tokens' and 'Create my access token'.\n",
    "4. Copy your \"API key\", \"API secret\" and \"Access token\" and \"Access token secret\".\n",
    "\n",
    "Now you have your credentials. We will store them in a JSON file that we will later give to our script. Copy your credentials to a file called `credentials-YOURNAME.json`:"
   ]
  },
  {
   "cell_type": "code",
   "execution_count": 1,
   "metadata": {
    "collapsed": false,
    "slideshow": {
     "slide_type": "fragment"
    }
   },
   "outputs": [
    {
     "data": {
      "text/plain": [
       "{'ACCESS_TOKEN': 'INSERT_HERE',\n",
       " 'ACCESS_TOKEN_SECRET': 'INSERT_HERE',\n",
       " 'CONSUMER_KEY': 'INSERT_HERE',\n",
       " 'CONSUMER_SECRET': 'INSERT_HERE'}"
      ]
     },
     "execution_count": 1,
     "metadata": {},
     "output_type": "execute_result"
    }
   ],
   "source": [
    "{\n",
    " \"CONSUMER_KEY\": \"INSERT_HERE\",\n",
    " \"CONSUMER_SECRET\": \"INSERT_HERE\",\n",
    " \"ACCESS_TOKEN\": \"INSERT_HERE\",\n",
    " \"ACCESS_TOKEN_SECRET\": \"INSERT_HERE\",\n",
    "}"
   ]
  },
  {
   "cell_type": "markdown",
   "metadata": {
    "slideshow": {
     "slide_type": "slide"
    }
   },
   "source": [
    "## Installing the Python Twitter tools\n",
    "\n",
    "There are many python Twitter libraries around, we will use the [Python Twitter tools](https://pypi.python.org/pypi/twitter). "
   ]
  },
  {
   "cell_type": "markdown",
   "metadata": {
    "slideshow": {
     "slide_type": "fragment"
    }
   },
   "source": [
    "Download and install Anaconda python 3.5 from https://www.continuum.io/downloads\n",
    "After installing Anaconda python, start python and check that it says Anaconda (see example below):\n",
    "\n",
    "```\n",
    "% python\n",
    "Python 3.5.2 |Anaconda 2.5.0 (64-bit)| (default, Jul  2 2016, 17:53:06)\n",
    "[GCC 4.4.7 20120313 (Red Hat 4.4.7-1)] on linux\n",
    "Type \"help\", \"copyright\", \"credits\" or \"license\" for more information.\n",
    ">>>\n",
    "\n",
    "```\n",
    "\n",
    "Then, install the Twitter package:\n",
    "```\n",
    "% pip install twitter\n",
    "Collecting twitter\n",
    "  Downloading twitter-1.17.1-py2.py3-none-any.whl (55kB)\n",
    "      100% |████████████████████████████████| 61kB 3.1MB/s\n",
    "Installing collected packages: twitter\n",
    "Successfully installed twitter-1.17.1\n",
    "```\n",
    "\n",
    "To check if it worked:\n",
    "```\n",
    "% python\n",
    "% >>> import twitter\n",
    "```\n",
    "(If you don’t get any error message, your installation was successful!)\n",
    "\n",
    "Now we are all set to get data from Twitter!\n"
   ]
  },
  {
   "cell_type": "markdown",
   "metadata": {
    "slideshow": {
     "slide_type": "slide"
    }
   },
   "source": [
    "## Connecting to the Twitter API\n",
    "\n",
    "Twitter has two main APIs, the REST and Streaming API (see the [Twitter documentation](https://dev.twitter.com/overview/documentation) for more details). \n",
    "\n",
    "* The Streaming API gives you access to a *sample* of **real-time** tweets.\n",
    "* For anything that goes beyond a random sample, you'll use the REST API (e.g. searching for tweets that contain a specific search term). \n",
    "\n",
    "Typically we use the REST API, but the difference does not really matter much for us here.\n",
    "\n",
    "Let us get some data by connecting to the streaming API to get a real-time sample of tweets. "
   ]
  },
  {
   "cell_type": "markdown",
   "metadata": {
    "slideshow": {
     "slide_type": "slide"
    }
   },
   "source": [
    "### Get a sample of tweets from the Streaming API\n",
    "\n",
    "Copy the following code and save it as `twittersample.py` file. "
   ]
  },
  {
   "cell_type": "code",
   "execution_count": 2,
   "metadata": {
    "collapsed": false,
    "slideshow": {
     "slide_type": "fragment"
    }
   },
   "outputs": [
    {
     "name": "stderr",
     "output_type": "stream",
     "text": [
      "usage: Example: Accessing the Twitter Streaming API [-h] --credentials\n",
      "                                                    CREDENTIALS\n",
      "                                                    [--count COUNT]\n",
      "Example: Accessing the Twitter Streaming API: error: the following arguments are required: --credentials/-c\n"
     ]
    },
    {
     "ename": "SystemExit",
     "evalue": "2",
     "output_type": "error",
     "traceback": [
      "An exception has occurred, use %tb to see the full traceback.\n",
      "\u001b[0;31mSystemExit\u001b[0m\u001b[0;31m:\u001b[0m 2\n"
     ]
    },
    {
     "name": "stderr",
     "output_type": "stream",
     "text": [
      "/home/p252438/anaconda3/lib/python3.6/site-packages/IPython/core/interactiveshell.py:2889: UserWarning: To exit: use 'exit', 'quit', or Ctrl-D.\n",
      "  warn(\"To exit: use 'exit', 'quit', or Ctrl-D.\", stacklevel=1)\n"
     ]
    }
   ],
   "source": [
    "#!/usr/bin/env python3\n",
    "# Getting a sample of tweets\n",
    "# __author__: bplank\n",
    "import argparse\n",
    "import json\n",
    "from twitter import OAuth, TwitterStream\n",
    "\n",
    "parser = argparse.ArgumentParser(\"Example: Accessing the Twitter Streaming API\")\n",
    "parser.add_argument('--credentials','-c', help=\"user credentials (required)\",required=True)\n",
    "parser.add_argument('--count', help=\"number of tweets\", default=10)\n",
    "\n",
    "args = parser.parse_args()\n",
    "\n",
    "## Load your credentials\n",
    "credentials = json.load(open(args.credentials))\n",
    "\n",
    "CONSUMER_KEY=credentials[\"CONSUMER_KEY\"]\n",
    "CONSUMER_SECRET=credentials[\"CONSUMER_SECRET\"]\n",
    "ACCESS_TOKEN=credentials[\"ACCESS_TOKEN\"]\n",
    "ACCESS_TOKEN_SECRET=credentials[\"ACCESS_TOKEN_SECRET\"]\n",
    "\n",
    "my_authentication = OAuth(ACCESS_TOKEN, ACCESS_TOKEN_SECRET, CONSUMER_KEY, CONSUMER_SECRET)\n",
    "\n",
    "# Init the connection to the Twitter Streaming API\n",
    "twitter_stream = TwitterStream(auth=my_authentication)\n",
    "\n",
    "# Get a sample from the Twitter Streaming API (it's an endless loop)\n",
    "iterator = twitter_stream.statuses.sample()\n",
    "\n",
    "i=0\n",
    "for tweet in iterator:\n",
    "    if i > args.count:\n",
    "        break\n",
    "    if \"text\" in tweet:\n",
    "        text = tweet[\"text\"]\n",
    "        date = tweet[\"created_at\"]\n",
    "        print(text, date)\n",
    "    i+=1"
   ]
  },
  {
   "cell_type": "markdown",
   "metadata": {
    "slideshow": {
     "slide_type": "slide"
    }
   },
   "source": [
    "Now execute the script as follows, providing your credentials as argument: \n",
    "\n",
    "```\n",
    "python twittersample.py --credentials YOURFILE\n",
    "```\n",
    "\n",
    "Inside this Jupyter Notebook we can run the script (assuming it is stored in the same location as this notebook) by typing:"
   ]
  },
  {
   "cell_type": "code",
   "execution_count": 19,
   "metadata": {
    "collapsed": false,
    "slideshow": {
     "slide_type": "fragment"
    }
   },
   "outputs": [
    {
     "name": "stdout",
     "output_type": "stream",
     "text": [
      "実際たまにDMする😐 \n",
      "\n",
      "#質問箱 #peing_0129_a_t https://t.co/jPnwqAoIj5 https://t.co/SgtPFUR3BG Mon Dec 11 14:07:43 +0000 2017\n",
      "Esa puntita que queda siempre, tó padentro sniff! https://t.co/s2u3lb80qR Mon Dec 11 14:07:43 +0000 2017\n",
      "RT @albertmartnez: Els neonazis i l'extrema dreta han decidit no presentar-se a les eleccions del 21-D. A diversos municipis de Catalu…  Mon Dec 11 14:07:43 +0000 2017\n",
      "リア充は非リアの刹那さ、虚無感、孤独を\n",
      "\n",
      "非リアはリア充の幸福感、充足感、優越感を引き立たせることで\n",
      "相互に影響しあっているからです。 \n",
      "\n",
      "#質問箱 #peing_first_f_chi… https://t.co/UAC10hyHr5 Mon Dec 11 14:07:43 +0000 2017\n",
      "RT @Khaled_Ali_A: قصيدة - ليس الغريب - للشيخ:خالد بن علي أبا الخيل: https://t.co/FVmktLaebn عبر @YouTube Mon Dec 11 14:07:43 +0000 2017\n",
      "https://t.co/BqSBHTHFe7 Mon Dec 11 14:07:43 +0000 2017\n",
      "とても強い() \n",
      "\n",
      "#質問箱 #peing_jmsdf_0121 https://t.co/Dv9DmTwT9b https://t.co/3m72sfXG8z Mon Dec 11 14:07:43 +0000 2017\n",
      "【写真】湘南ベルマーレユース［第9回 神奈川県U-18サッカーリーグ・Ｋ１＝第18節／2017.12.9＠馬入ふれあい公園サッカー場］#bellmare\n",
      "《facebook》https://t.co/niZSWX0rqz\n",
      "《twi… https://t.co/TPIBp96i6S Mon Dec 11 14:07:43 +0000 2017\n"
     ]
    }
   ],
   "source": [
    "%run twittersample.py --credentials private/credentials-barbara.json"
   ]
  },
  {
   "cell_type": "markdown",
   "metadata": {
    "slideshow": {
     "slide_type": "slide"
    }
   },
   "source": [
    "## A single tweet\n",
    "\n",
    "In the example above, we extracted two pieces of information: the text and the creation data of the tweet. However, there is much more information contained in a single tweet. \n",
    "\n",
    "<img src=\"https://cdn-images-1.medium.com/max/1600/1*HHq5BFKMTV5TArxo6mqu_w.jpeg\">"
   ]
  },
  {
   "cell_type": "markdown",
   "metadata": {
    "slideshow": {
     "slide_type": "slide"
    }
   },
   "source": [
    "The Twitter API returns data in [JSON](http://www.w3schools.com/js/js_json_intro.asp) format, and a single tweet contains *a lot of meta-data*.\n",
    "\n",
    "For example, the following tweet:\n",
    "\n",
    "<img src=\"pics/tweet.png\" width=600>\n",
    "\n",
    "is represented in JSON as:\n"
   ]
  },
  {
   "cell_type": "code",
   "execution_count": 4,
   "metadata": {
    "collapsed": false,
    "slideshow": {
     "slide_type": "fragment"
    }
   },
   "outputs": [],
   "source": [
    "tweet = {'source': '<a href=\"http://twitter.com\" rel=\"nofollow\">Twitter Web Client</a>', 'in_reply_to_user_id_str': None, 'favorited': False, 'possibly_sensitive': False, 'in_reply_to_status_id': None, 'user': {'listed_count': 16, 'profile_link_color': '0084B4', 'profile_text_color': '333333', 'description': '', 'profile_background_tile': False, 'follow_request_sent': False, 'profile_image_url': 'http://pbs.twimg.com/profile_images/605391347437043712/CFz1Qh3Y_normal.jpg', 'contributors_enabled': False, 'profile_background_image_url_https': 'https://abs.twimg.com/images/themes/theme1/bg.png', 'profile_background_image_url': 'http://abs.twimg.com/images/themes/theme1/bg.png', 'url': 'https://t.co/VGUuVzPsq4', 'lang': 'en', 'id_str': '3232640646', 'profile_sidebar_border_color': 'C0DEED', 'friends_count': 183, 'time_zone': None, 'id': 3232640646, 'verified': False, 'created_at': 'Mon Jun 01 15:10:28 +0000 2015', 'profile_sidebar_fill_color': 'DDEEF6', 'has_extended_profile': False, 'geo_enabled': False, 'default_profile_image': False, 'profile_background_color': 'C0DEED', 'utc_offset': None, 'protected': False, 'name': 'Barbara Plank', 'followers_count': 311, 'is_translator': False, 'location': '', 'notifications': False, 'default_profile': True, 'profile_banner_url': 'https://pbs.twimg.com/profile_banners/3232640646/1451321777', 'is_translation_enabled': False, 'profile_use_background_image': True, 'entities': {'description': {'urls': []}, 'url': {'urls': [{'indices': [0, 23], 'url': 'https://t.co/VGUuVzPsq4', 'expanded_url': 'http://www.let.rug.nl/bplank', 'display_url': 'let.rug.nl/bplank'}]}}, 'following': False, 'statuses_count': 332, 'profile_image_url_https': 'https://pbs.twimg.com/profile_images/605391347437043712/CFz1Qh3Y_normal.jpg', 'favourites_count': 401, 'screen_name': 'barbara_plank'}, 'created_at': 'Sun Sep 25 17:33:32 +0000 2016', 'lang': 'en', 'retweet_count': 26, 'coordinates': None, 'truncated': False, 'entities': {'user_mentions': [], 'urls': [{'indices': [45, 68], 'url': 'https://t.co/KufGegGnmn', 'expanded_url': 'http://coling2016.anlp.jp/', 'display_url': 'coling2016.anlp.jp'}], 'hashtags': [{'indices': [31, 42], 'text': 'coling2016'}, {'indices': [69, 76], 'text': 'NLProc'}], 'symbols': []}, 'in_reply_to_user_id': None, 'metadata': {'result_type': 'recent', 'iso_language_code': 'en'}, 'favorite_count': 12, 'id': 780097921249411076, 'in_reply_to_status_id_str': None, 'contributors': None, 'in_reply_to_screen_name': None, 'is_quote_status': False, 'retweeted': False, 'text': 'Accepted COLING papers are out #coling2016 - https://t.co/KufGegGnmn #NLProc', 'place': None, 'id_str': '780097921249411076', 'geo': None}"
   ]
  },
  {
   "cell_type": "markdown",
   "metadata": {
    "slideshow": {
     "slide_type": "fragment"
    }
   },
   "source": [
    "Well, we don't see much of the information, let us use the pretty-print function to examine the content of the tweet's JSON format:"
   ]
  },
  {
   "cell_type": "code",
   "execution_count": 5,
   "metadata": {
    "collapsed": false,
    "slideshow": {
     "slide_type": "fragment"
    }
   },
   "outputs": [
    {
     "name": "stdout",
     "output_type": "stream",
     "text": [
      "{\n",
      "    \"source\": \"<a href=\\\"http://twitter.com\\\" rel=\\\"nofollow\\\">Twitter Web Client</a>\",\n",
      "    \"in_reply_to_user_id_str\": null,\n",
      "    \"favorited\": false,\n",
      "    \"possibly_sensitive\": false,\n",
      "    \"in_reply_to_status_id\": null,\n",
      "    \"user\": {\n",
      "        \"listed_count\": 16,\n",
      "        \"profile_link_color\": \"0084B4\",\n",
      "        \"profile_text_color\": \"333333\",\n",
      "        \"description\": \"\",\n",
      "        \"profile_background_tile\": false,\n",
      "        \"follow_request_sent\": false,\n",
      "        \"profile_image_url\": \"http://pbs.twimg.com/profile_images/605391347437043712/CFz1Qh3Y_normal.jpg\",\n",
      "        \"contributors_enabled\": false,\n",
      "        \"profile_background_image_url_https\": \"https://abs.twimg.com/images/themes/theme1/bg.png\",\n",
      "        \"profile_background_image_url\": \"http://abs.twimg.com/images/themes/theme1/bg.png\",\n",
      "        \"url\": \"https://t.co/VGUuVzPsq4\",\n",
      "        \"lang\": \"en\",\n",
      "        \"id_str\": \"3232640646\",\n",
      "        \"profile_sidebar_border_color\": \"C0DEED\",\n",
      "        \"friends_count\": 183,\n",
      "        \"time_zone\": null,\n",
      "        \"id\": 3232640646,\n",
      "        \"verified\": false,\n",
      "        \"created_at\": \"Mon Jun 01 15:10:28 +0000 2015\",\n",
      "        \"profile_sidebar_fill_color\": \"DDEEF6\",\n",
      "        \"has_extended_profile\": false,\n",
      "        \"geo_enabled\": false,\n",
      "        \"default_profile_image\": false,\n",
      "        \"profile_background_color\": \"C0DEED\",\n",
      "        \"utc_offset\": null,\n",
      "        \"protected\": false,\n",
      "        \"name\": \"Barbara Plank\",\n",
      "        \"followers_count\": 311,\n",
      "        \"is_translator\": false,\n",
      "        \"location\": \"\",\n",
      "        \"notifications\": false,\n",
      "        \"default_profile\": true,\n",
      "        \"profile_banner_url\": \"https://pbs.twimg.com/profile_banners/3232640646/1451321777\",\n",
      "        \"is_translation_enabled\": false,\n",
      "        \"profile_use_background_image\": true,\n",
      "        \"entities\": {\n",
      "            \"description\": {\n",
      "                \"urls\": []\n",
      "            },\n",
      "            \"url\": {\n",
      "                \"urls\": [\n",
      "                    {\n",
      "                        \"indices\": [\n",
      "                            0,\n",
      "                            23\n",
      "                        ],\n",
      "                        \"url\": \"https://t.co/VGUuVzPsq4\",\n",
      "                        \"expanded_url\": \"http://www.let.rug.nl/bplank\",\n",
      "                        \"display_url\": \"let.rug.nl/bplank\"\n",
      "                    }\n",
      "                ]\n",
      "            }\n",
      "        },\n",
      "        \"following\": false,\n",
      "        \"statuses_count\": 332,\n",
      "        \"profile_image_url_https\": \"https://pbs.twimg.com/profile_images/605391347437043712/CFz1Qh3Y_normal.jpg\",\n",
      "        \"favourites_count\": 401,\n",
      "        \"screen_name\": \"barbara_plank\"\n",
      "    },\n",
      "    \"created_at\": \"Sun Sep 25 17:33:32 +0000 2016\",\n",
      "    \"lang\": \"en\",\n",
      "    \"retweet_count\": 26,\n",
      "    \"coordinates\": null,\n",
      "    \"truncated\": false,\n",
      "    \"entities\": {\n",
      "        \"user_mentions\": [],\n",
      "        \"urls\": [\n",
      "            {\n",
      "                \"indices\": [\n",
      "                    45,\n",
      "                    68\n",
      "                ],\n",
      "                \"url\": \"https://t.co/KufGegGnmn\",\n",
      "                \"expanded_url\": \"http://coling2016.anlp.jp/\",\n",
      "                \"display_url\": \"coling2016.anlp.jp\"\n",
      "            }\n",
      "        ],\n",
      "        \"hashtags\": [\n",
      "            {\n",
      "                \"indices\": [\n",
      "                    31,\n",
      "                    42\n",
      "                ],\n",
      "                \"text\": \"coling2016\"\n",
      "            },\n",
      "            {\n",
      "                \"indices\": [\n",
      "                    69,\n",
      "                    76\n",
      "                ],\n",
      "                \"text\": \"NLProc\"\n",
      "            }\n",
      "        ],\n",
      "        \"symbols\": []\n",
      "    },\n",
      "    \"in_reply_to_user_id\": null,\n",
      "    \"metadata\": {\n",
      "        \"result_type\": \"recent\",\n",
      "        \"iso_language_code\": \"en\"\n",
      "    },\n",
      "    \"favorite_count\": 12,\n",
      "    \"id\": 780097921249411076,\n",
      "    \"in_reply_to_status_id_str\": null,\n",
      "    \"contributors\": null,\n",
      "    \"in_reply_to_screen_name\": null,\n",
      "    \"is_quote_status\": false,\n",
      "    \"retweeted\": false,\n",
      "    \"text\": \"Accepted COLING papers are out #coling2016 - https://t.co/KufGegGnmn #NLProc\",\n",
      "    \"place\": null,\n",
      "    \"id_str\": \"780097921249411076\",\n",
      "    \"geo\": null\n",
      "}\n"
     ]
    }
   ],
   "source": [
    "# let us use pretty print function\n",
    "print(json.dumps(tweet, indent=4))"
   ]
  },
  {
   "cell_type": "markdown",
   "metadata": {
    "slideshow": {
     "slide_type": "slide"
    }
   },
   "source": [
    "There is a lot of additional metadata in a single tweet!\n",
    "\n",
    "The following map by Raffi Krikorian (taken from Wei Xu's social media class) explains the content of a tweet:\n",
    "\n",
    "<img src=\"http://socialmedia-class.org/assets/img/raffi-krikorian-map-of-a-tweet.png\">"
   ]
  },
  {
   "cell_type": "markdown",
   "metadata": {
    "slideshow": {
     "slide_type": "slide"
    }
   },
   "source": [
    "### Language identification (LangID)\n",
    "\n",
    "In the streaming sample we encountered tweets in many different languages."
   ]
  },
  {
   "cell_type": "markdown",
   "metadata": {
    "slideshow": {
     "slide_type": "fragment"
    }
   },
   "source": [
    "#### Language distribution on Twitter \n",
    "<img src=\"pics/langdistribution.png\" width=700> (Verhoeven, Plank, Daelemans, 2016)"
   ]
  },
  {
   "cell_type": "markdown",
   "metadata": {
    "slideshow": {
     "slide_type": "slide"
    }
   },
   "source": [
    "Note that each tweet contains a `lang` attribute, as also shown in Krikorian's map. \n",
    "However, this attribute is actually **outdated**. \n",
    "\n",
    "Since 2013 Twitter uses automatic language identification, and `lang` now contains the predicted language. The attribute can also contain `und` (for undefined). For more information:\n",
    "\n",
    "* [Twitter: Introduction new metadata, 2013](https://blog.twitter.com/2013/introducing-new-metadata-for-tweets)\n",
    "* [Evaluating Language Identification performance, 2015](https://blog.twitter.com/2015/evaluating-language-identification-performance)\n",
    "\n",
    "For our example tweet:"
   ]
  },
  {
   "cell_type": "code",
   "execution_count": 6,
   "metadata": {
    "collapsed": false,
    "slideshow": {
     "slide_type": "fragment"
    }
   },
   "outputs": [
    {
     "data": {
      "text/plain": [
       "'en'"
      ]
     },
     "execution_count": 6,
     "metadata": {},
     "output_type": "execute_result"
    }
   ],
   "source": [
    "tweet['lang']"
   ]
  },
  {
   "cell_type": "markdown",
   "metadata": {
    "slideshow": {
     "slide_type": "slide"
    }
   },
   "source": [
    "### A language identification toolkit\n",
    "\n",
    "A easy-to-use language idenficiation toolkit has been implmented in `langid` [Lui and Baldwin, 2012](www.aclweb.org/anthology/P12-3005). It covers approximately 100 languages. You can install it with `pip install langid`. \n",
    "\n",
    "It's based on the Naive Bayes algorithm. And it's easy to use:"
   ]
  },
  {
   "cell_type": "code",
   "execution_count": 10,
   "metadata": {
    "collapsed": false,
    "slideshow": {
     "slide_type": "fragment"
    }
   },
   "outputs": [
    {
     "data": {
      "text/plain": [
       "('en', -119.58683443069458)"
      ]
     },
     "execution_count": 10,
     "metadata": {},
     "output_type": "execute_result"
    }
   ],
   "source": [
    "import langid\n",
    "langid.classify(\"this is a sample test. Which language, what's your guess?\")"
   ]
  },
  {
   "cell_type": "code",
   "execution_count": 11,
   "metadata": {
    "collapsed": false,
    "slideshow": {
     "slide_type": "fragment"
    }
   },
   "outputs": [
    {
     "data": {
      "text/plain": [
       "('nl', -21.903905391693115)"
      ]
     },
     "execution_count": 11,
     "metadata": {},
     "output_type": "execute_result"
    }
   ],
   "source": [
    "langid.classify(\"en nu is het?\")"
   ]
  },
  {
   "cell_type": "code",
   "execution_count": 12,
   "metadata": {
    "collapsed": false,
    "slideshow": {
     "slide_type": "fragment"
    }
   },
   "outputs": [
    {
     "data": {
      "text/plain": [
       "('de', -81.0643835067749)"
      ]
     },
     "execution_count": 12,
     "metadata": {},
     "output_type": "execute_result"
    }
   ],
   "source": [
    "langid.classify(\"des isch iatz ober schwieriger..\")"
   ]
  },
  {
   "cell_type": "markdown",
   "metadata": {
    "slideshow": {
     "slide_type": "slide"
    }
   },
   "source": [
    "### Searching tweets by query term\n",
    "\n",
    "Typically we would like to search for tweets that contain a particular **search term**. This is simple with the Twitter Python tools, as the following code snippet shows."
   ]
  },
  {
   "cell_type": "code",
   "execution_count": 27,
   "metadata": {
    "collapsed": false,
    "slideshow": {
     "slide_type": "fragment"
    }
   },
   "outputs": [
    {
     "name": "stdout",
     "output_type": "stream",
     "text": [
      "Mirgen om half 8 met de trein naar school. Ik denk niet ik op school kom😂\n",
      "RT @2delavega2000: VIDEO Trein komt station binnen in de #sneeuw \n",
      "Train arriving in station in the #snow\n",
      "https://t.co/ikaNiAToJV\n",
      "RT @yordivanrompae1: hmmmm ik kan de vertraging van men trein morgen al ruiken :))) #nmbs\n",
      "RT @RTLnieuws: Advies voor morgen: beter niet met de trein of met de auto    https://t.co/66ItdT5swC https://t.co/MnCtQ6rKmZ\n",
      "Google Maps waarschuwt je straks als je van trein moet wisselen - https://t.co/cbdWYUjvhI door @Jim2074\n",
      "Google Maps geeft straks seintje om uit de bus of trein te stappen https://t.co/aiDczRZYLt via @Androidworld\n",
      "In de trein van Den Haag naar Eindhoven en tot nu toe op tijd. Zelfs de verwarming doet het nu! #NS meevaller\n",
      "Als de trein #NS niet rijdt, dan de bus maar maar #Hoorn\n",
      "@kennethDMT Aangezien de luchthaven buiten de ring van Brussel ligt zou het geen probleem moeten zijn. Elk uur vert… https://t.co/y57alC26F7\n",
      "#coderood oh noo! Mijn trein heeft vertraging! ik ben echt bijna op het punt dat ik een schaap ga uithollen en daar… https://t.co/H6xKUessF6\n"
     ]
    }
   ],
   "source": [
    "import twitter\n",
    "import json\n",
    "from twitter import Twitter, OAuth, TwitterStream\n",
    "\n",
    "cred = json.load(open(\"private/credentials-barbara.json\"))\n",
    "# Initiate the connection to Twitter REST API\n",
    "\n",
    "my_authentication = OAuth(cred[\"ACCESS_TOKEN\"], cred[\"ACCESS_TOKEN_SECRET\"], \\\n",
    "                          cred[\"CONSUMER_KEY\"], cred[\"CONSUMER_SECRET\"])\n",
    "\n",
    "twitter = Twitter(auth=my_authentication)\n",
    "\n",
    "# Search for latest tweets about Groningen\n",
    "query =  twitter.search.tweets(q='trein',count=10)\n",
    "for tweet in query[\"statuses\"]:\n",
    "    print(tweet['text'])"
   ]
  },
  {
   "cell_type": "markdown",
   "metadata": {
    "slideshow": {
     "slide_type": "notes"
    }
   },
   "source": [
    "Now we fetch the last tweet and examine who posted it:"
   ]
  },
  {
   "cell_type": "code",
   "execution_count": 14,
   "metadata": {
    "collapsed": false,
    "slideshow": {
     "slide_type": "notes"
    }
   },
   "outputs": [
    {
     "name": "stdout",
     "output_type": "stream",
     "text": [
      "Richard Adams Tue Oct 29 13:59:34 +0000 2013\n"
     ]
    }
   ],
   "source": [
    "tweet = query['statuses'][-1]\n",
    "print(tweet['user']['name'],tweet['user']['created_at'])"
   ]
  },
  {
   "cell_type": "markdown",
   "metadata": {
    "slideshow": {
     "slide_type": "slide"
    }
   },
   "source": [
    "### Extra 1: Getting the tweets of a specific user"
   ]
  },
  {
   "cell_type": "code",
   "execution_count": 15,
   "metadata": {
    "collapsed": false,
    "slideshow": {
     "slide_type": "fragment"
    }
   },
   "outputs": [
    {
     "data": {
      "text/plain": [
       "[{'contributors': None,\n",
       "  'coordinates': None,\n",
       "  'created_at': 'Sun Dec 10 10:00:55 +0000 2017',\n",
       "  'entities': {'hashtags': [],\n",
       "   'symbols': [],\n",
       "   'urls': [{'display_url': 'twitter.com/i/web/status/9…',\n",
       "     'expanded_url': 'https://twitter.com/i/web/status/939797064279576576',\n",
       "     'indices': [117, 140],\n",
       "     'url': 'https://t.co/ltrgbILxOx'}],\n",
       "   'user_mentions': [{'id': 81869176,\n",
       "     'id_str': '81869176',\n",
       "     'indices': [0, 8],\n",
       "     'name': 'Djamé',\n",
       "     'screen_name': 'zehavoc'},\n",
       "    {'id': 39547749,\n",
       "     'id_str': '39547749',\n",
       "     'indices': [9, 16],\n",
       "     'name': \"(((λ()(λ() 'yoav))))\",\n",
       "     'screen_name': 'yoavgo'}]},\n",
       "  'favorite_count': 0,\n",
       "  'favorited': False,\n",
       "  'geo': None,\n",
       "  'id': 939797064279576576,\n",
       "  'id_str': '939797064279576576',\n",
       "  'in_reply_to_screen_name': 'zehavoc',\n",
       "  'in_reply_to_status_id': 939650162540142592,\n",
       "  'in_reply_to_status_id_str': '939650162540142592',\n",
       "  'in_reply_to_user_id': 81869176,\n",
       "  'in_reply_to_user_id_str': '81869176',\n",
       "  'is_quote_status': False,\n",
       "  'lang': 'en',\n",
       "  'place': None,\n",
       "  'retweet_count': 0,\n",
       "  'retweeted': False,\n",
       "  'source': '<a href=\"http://twitter.com\" rel=\"nofollow\">Twitter Web Client</a>',\n",
       "  'text': \"@zehavoc @yoavgo don't recall the name but I remember we had a great time! :) but it was also the bus/taxi story, r… https://t.co/ltrgbILxOx\",\n",
       "  'truncated': True,\n",
       "  'user': {'contributors_enabled': False,\n",
       "   'created_at': 'Mon Jun 01 15:10:28 +0000 2015',\n",
       "   'default_profile': True,\n",
       "   'default_profile_image': False,\n",
       "   'description': 'Assistant Professor in Natural Language Processing (NLP)',\n",
       "   'entities': {'description': {'urls': []},\n",
       "    'url': {'urls': [{'display_url': 'let.rug.nl/bplank',\n",
       "       'expanded_url': 'http://www.let.rug.nl/bplank',\n",
       "       'indices': [0, 23],\n",
       "       'url': 'https://t.co/VGUuVzPsq4'}]}},\n",
       "   'favourites_count': 1119,\n",
       "   'follow_request_sent': False,\n",
       "   'followers_count': 1137,\n",
       "   'following': False,\n",
       "   'friends_count': 270,\n",
       "   'geo_enabled': False,\n",
       "   'has_extended_profile': False,\n",
       "   'id': 3232640646,\n",
       "   'id_str': '3232640646',\n",
       "   'is_translation_enabled': False,\n",
       "   'is_translator': False,\n",
       "   'lang': 'en',\n",
       "   'listed_count': 39,\n",
       "   'location': '',\n",
       "   'name': 'Barbara Plank',\n",
       "   'notifications': False,\n",
       "   'profile_background_color': 'C0DEED',\n",
       "   'profile_background_image_url': 'http://abs.twimg.com/images/themes/theme1/bg.png',\n",
       "   'profile_background_image_url_https': 'https://abs.twimg.com/images/themes/theme1/bg.png',\n",
       "   'profile_background_tile': False,\n",
       "   'profile_banner_url': 'https://pbs.twimg.com/profile_banners/3232640646/1451321777',\n",
       "   'profile_image_url': 'http://pbs.twimg.com/profile_images/903727075600760833/Q2iaNITb_normal.jpg',\n",
       "   'profile_image_url_https': 'https://pbs.twimg.com/profile_images/903727075600760833/Q2iaNITb_normal.jpg',\n",
       "   'profile_link_color': '1DA1F2',\n",
       "   'profile_sidebar_border_color': 'C0DEED',\n",
       "   'profile_sidebar_fill_color': 'DDEEF6',\n",
       "   'profile_text_color': '333333',\n",
       "   'profile_use_background_image': True,\n",
       "   'protected': False,\n",
       "   'screen_name': 'barbara_plank',\n",
       "   'statuses_count': 594,\n",
       "   'time_zone': None,\n",
       "   'translator_type': 'none',\n",
       "   'url': 'https://t.co/VGUuVzPsq4',\n",
       "   'utc_offset': None,\n",
       "   'verified': False}},\n",
       " {'contributors': None,\n",
       "  'coordinates': None,\n",
       "  'created_at': 'Wed Dec 06 18:39:34 +0000 2017',\n",
       "  'entities': {'hashtags': [],\n",
       "   'symbols': [],\n",
       "   'urls': [],\n",
       "   'user_mentions': [{'id': 2294767639,\n",
       "     'id_str': '2294767639',\n",
       "     'indices': [0, 13],\n",
       "     'name': 'A. Mutzabaugh CMT',\n",
       "     'screen_name': 'WLV_investor'}]},\n",
       "  'favorite_count': 0,\n",
       "  'favorited': False,\n",
       "  'geo': None,\n",
       "  'id': 938478037074677760,\n",
       "  'id_str': '938478037074677760',\n",
       "  'in_reply_to_screen_name': 'WLV_investor',\n",
       "  'in_reply_to_status_id': 938410022538682368,\n",
       "  'in_reply_to_status_id_str': '938410022538682368',\n",
       "  'in_reply_to_user_id': 2294767639,\n",
       "  'in_reply_to_user_id_str': '2294767639',\n",
       "  'is_quote_status': False,\n",
       "  'lang': 'und',\n",
       "  'place': None,\n",
       "  'retweet_count': 0,\n",
       "  'retweeted': False,\n",
       "  'source': '<a href=\"http://twitter.com\" rel=\"nofollow\">Twitter Web Client</a>',\n",
       "  'text': '@WLV_investor omg!',\n",
       "  'truncated': False,\n",
       "  'user': {'contributors_enabled': False,\n",
       "   'created_at': 'Mon Jun 01 15:10:28 +0000 2015',\n",
       "   'default_profile': True,\n",
       "   'default_profile_image': False,\n",
       "   'description': 'Assistant Professor in Natural Language Processing (NLP)',\n",
       "   'entities': {'description': {'urls': []},\n",
       "    'url': {'urls': [{'display_url': 'let.rug.nl/bplank',\n",
       "       'expanded_url': 'http://www.let.rug.nl/bplank',\n",
       "       'indices': [0, 23],\n",
       "       'url': 'https://t.co/VGUuVzPsq4'}]}},\n",
       "   'favourites_count': 1119,\n",
       "   'follow_request_sent': False,\n",
       "   'followers_count': 1137,\n",
       "   'following': False,\n",
       "   'friends_count': 270,\n",
       "   'geo_enabled': False,\n",
       "   'has_extended_profile': False,\n",
       "   'id': 3232640646,\n",
       "   'id_str': '3232640646',\n",
       "   'is_translation_enabled': False,\n",
       "   'is_translator': False,\n",
       "   'lang': 'en',\n",
       "   'listed_count': 39,\n",
       "   'location': '',\n",
       "   'name': 'Barbara Plank',\n",
       "   'notifications': False,\n",
       "   'profile_background_color': 'C0DEED',\n",
       "   'profile_background_image_url': 'http://abs.twimg.com/images/themes/theme1/bg.png',\n",
       "   'profile_background_image_url_https': 'https://abs.twimg.com/images/themes/theme1/bg.png',\n",
       "   'profile_background_tile': False,\n",
       "   'profile_banner_url': 'https://pbs.twimg.com/profile_banners/3232640646/1451321777',\n",
       "   'profile_image_url': 'http://pbs.twimg.com/profile_images/903727075600760833/Q2iaNITb_normal.jpg',\n",
       "   'profile_image_url_https': 'https://pbs.twimg.com/profile_images/903727075600760833/Q2iaNITb_normal.jpg',\n",
       "   'profile_link_color': '1DA1F2',\n",
       "   'profile_sidebar_border_color': 'C0DEED',\n",
       "   'profile_sidebar_fill_color': 'DDEEF6',\n",
       "   'profile_text_color': '333333',\n",
       "   'profile_use_background_image': True,\n",
       "   'protected': False,\n",
       "   'screen_name': 'barbara_plank',\n",
       "   'statuses_count': 594,\n",
       "   'time_zone': None,\n",
       "   'translator_type': 'none',\n",
       "   'url': 'https://t.co/VGUuVzPsq4',\n",
       "   'utc_offset': None,\n",
       "   'verified': False}}]"
      ]
     },
     "execution_count": 15,
     "metadata": {},
     "output_type": "execute_result"
    }
   ],
   "source": [
    "# Get a particular user's timeline (up to 3,200 of his/her most recent tweets)\n",
    "data = twitter.statuses.user_timeline(screen_name=\"barbara_plank\",count=2)\n",
    "data"
   ]
  },
  {
   "cell_type": "markdown",
   "metadata": {},
   "source": [
    "Note that even if you specify `count` as more than 200, the Twitter API is limited to retrieve only up to the 200 most recent tweets. See: [https://dev.twitter.com/rest/reference/get/statuses/user_timeline]"
   ]
  },
  {
   "cell_type": "markdown",
   "metadata": {},
   "source": [
    "## *UPDATE*: Getting the tweets of a user (>200!)\n",
    "\n",
    "The standard Twitter API we used above is limited, it retrieves only up to 200 tweets per user. In order to retrieve more (up to roughly 3000 tweets), we have to resort to another library, namely `TwitterSearch` [https://twittersearch.readthedocs.io/]."
   ]
  },
  {
   "cell_type": "markdown",
   "metadata": {},
   "source": [
    "We install `TwitterSearch` with pip:\n",
    "\n",
    "`pip install TwitterSearch`"
   ]
  },
  {
   "cell_type": "code",
   "execution_count": 17,
   "metadata": {
    "collapsed": false
   },
   "outputs": [
    {
     "name": "stdout",
     "output_type": "stream",
     "text": [
      "Show 10 tweets:\n",
      "@zehavoc @yoavgo don't recall the name but I remember we had a great time! :) but it was also the bus/taxi story, r… https://t.co/ltrgbILxOx\n",
      "@WLV_investor omg!\n",
      "come join us tomorrow Dec 7 2017 at 14:30 in Academiegebouw @univgroningen: @johannesbjerva will defend his PhD thesis #NLProc\n",
      "RT @starsem2018: The First Call for Papers is now out! Submission deadline March 2, 2018. Check out the details at: https://t.co/b0h4aII4j4…\n",
      "RT @peopleswksh: First Call for Papers for PEOPLES 2018 - NAACL Workshop on Computational Modeling of People's Opinions, Personality, and E…\n",
      "@zehavoc 🦇 ;)\n",
      "RT @iatitov: New ERC-funded PhD positions @EdinburghNLP in semantic parsing / machine reading / multilingual NLP:  https://t.co/P8PHqEFpyT…\n",
      "RT @uwengineering: Huge congrats to the @UW #SoundingBoard team, winners of the first @Amazon #AlexaPrize! So proud of our @UWEEnews and #U…\n",
      "@kchonyc Yay, congrats, Thien!!\n",
      "RT @mmitchell_ai: Get yo' Ethics in NLP on.\n",
      "New Orleans, June 5th or 6th.\n",
      "You can start preparing your paper now!\n",
      "https://t.co/xovzFwMd4L\n",
      "\n",
      "total: 593\n"
     ]
    }
   ],
   "source": [
    "import json\n",
    "from TwitterSearch import TwitterUserOrder, TwitterSearch\n",
    "\n",
    "cred = json.load(open(\"private/credentials-barbara.json\"))\n",
    "my_authentication = OAuth(cred[\"ACCESS_TOKEN\"], cred[\"ACCESS_TOKEN_SECRET\"], \\\n",
    "                          cred[\"CONSUMER_KEY\"], cred[\"CONSUMER_SECRET\"])\n",
    "\n",
    "ts = TwitterSearch(access_token=cred[\"ACCESS_TOKEN\"],access_token_secret=cred[\"ACCESS_TOKEN_SECRET\"],\n",
    "                       consumer_key=cred[\"CONSUMER_KEY\"], consumer_secret=cred[\"CONSUMER_SECRET\"])\n",
    "\n",
    "username=\"barbara_plank\"\n",
    "twitter_user_order = TwitterUserOrder(username)\n",
    "\n",
    "all_tweets = []\n",
    "for tweet in ts.search_tweets_iterable(twitter_user_order):\n",
    "    all_tweets.append(tweet)\n",
    "\n",
    "print(\"Show 10 tweets:\")\n",
    "for tweet in all_tweets[0:10]:\n",
    "    print(tweet['text'])\n",
    "\n",
    "print(\"\")\n",
    "print(\"total: {}\".format(len(all_tweets)))"
   ]
  },
  {
   "cell_type": "markdown",
   "metadata": {
    "slideshow": {
     "slide_type": "slide"
    }
   },
   "source": [
    "### Extra 2: Plotting my last 100 tweets (by month_year)"
   ]
  },
  {
   "cell_type": "code",
   "execution_count": 18,
   "metadata": {
    "collapsed": false,
    "slideshow": {
     "slide_type": "fragment"
    }
   },
   "outputs": [
    {
     "data": {
      "text/plain": [
       "<matplotlib.axes._subplots.AxesSubplot at 0x7fd69a409b00>"
      ]
     },
     "execution_count": 18,
     "metadata": {},
     "output_type": "execute_result"
    },
    {
     "data": {
      "image/png": "[encoded data removed]",
      "text/plain": [
       "<matplotlib.figure.Figure at 0x7fd69a4092e8>"
      ]
     },
     "metadata": {},
     "output_type": "display_data"
    }
   ],
   "source": [
    "%matplotlib inline \n",
    "from twitter import Twitter\n",
    "import pandas as pd\n",
    "import numpy as np\n",
    "import seaborn as sb #optional: for prettier plotting\n",
    "from collections import Counter\n",
    "from dateutil.parser import parse\n",
    "\n",
    "my_tweets = twitter.statuses.user_timeline(screen_name=\"barbara_plank\",count=100)\n",
    "times = [parse(tweet['created_at']) for tweet in my_tweets]\n",
    "month_year = [\"{}_{}\".format(t.month, t.year) for t in times]\n",
    "timeseries = pd.Series(Counter(month_year))\n",
    "timeseries.plot(kind='bar')"
   ]
  },
  {
   "cell_type": "markdown",
   "metadata": {
    "slideshow": {
     "slide_type": "slide"
    }
   },
   "source": [
    "## Exercises:\n",
    "\n",
    "1. Search for tweets that contain the hashtag \"#NLProc\".\n",
    "2. Modify `twittersample.py` so that it returns entire JSON object. Save the output of the script in a file.\n",
    "3. Examine the language identification attribute of a sample of 50 tweets. Compare it to `langid`'s language guesser.\n"
   ]
  },
  {
   "cell_type": "markdown",
   "metadata": {
    "slideshow": {
     "slide_type": "slide"
    }
   },
   "source": [
    "# References\n",
    "\n",
    "* [Wei Xu's ultimate Twitter tutorial](http://socialmedia-class.org/twittertutorial.html)\n",
    "* Matthew A. Russel *Mining the Social Web*. O'Reilly, 2014.\n",
    "* Mitja Trampus, [Evaluating language identification performance](https://blog.twitter.com/2015/evaluating-language-identification-performance). Twitter blog, 2015.\n",
    "* Lui & Baldwin. [langid.py: An Off-the-shelf Language Identification Tool](http://www.aclweb.org/anthology/P12-3005) In ACL, 2012."
   ]
  }
 ],
 "metadata": {
  "celltoolbar": "Slideshow",
  "kernelspec": {
   "display_name": "Python 3",
   "language": "python",
   "name": "python3"
  },
  "language_info": {
   "codemirror_mode": {
    "name": "ipython",
    "version": 3
   },
   "file_extension": ".py",
   "mimetype": "text/x-python",
   "name": "python",
   "nbconvert_exporter": "python",
   "pygments_lexer": "ipython3",
   "version": "3.6.0"
  }
 },
 "nbformat": 4,
 "nbformat_minor": 0
}
